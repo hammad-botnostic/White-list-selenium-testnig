{
 "cells": [
  {
   "cell_type": "code",
   "execution_count": 8,
   "id": "425bd1f8",
   "metadata": {},
   "outputs": [],
   "source": [
    "from selenium import webdriver\n",
    "from selenium.webdriver.common.by import By\n",
    "from selenium.webdriver.support.ui import WebDriverWait\n",
    "from selenium.webdriver.support import expected_conditions as EC\n",
    "from selenium.common.exceptions import NoSuchElementException, TimeoutException\n",
    "from selenium.webdriver.support.ui import Select\n",
    "import json\n",
    "import time\n"
   ]
  },
  {
   "cell_type": "code",
   "execution_count": 1,
   "id": "7afacc03",
   "metadata": {},
   "outputs": [],
   "source": [
    "def wait(seconds):\n",
    "    time.sleep(seconds)\n",
    "\n",
    "def append_to_json_file(data, file_path=\"results.json\"):\n",
    "    try:\n",
    "        with open(file_path, \"r\") as json_file:\n",
    "            existing_data = json.load(json_file)\n",
    "    except (FileNotFoundError, json.JSONDecodeError):\n",
    "        existing_data = []\n",
    "\n",
    "    existing_data.append(data)\n",
    "\n",
    "    with open(file_path, \"w\") as json_file:\n",
    "        json.dump(existing_data, json_file, indent=4)\n"
   ]
  },
  {
   "cell_type": "code",
   "execution_count": 2,
   "id": "9b9013a8",
   "metadata": {},
   "outputs": [],
   "source": [
    "\n",
    "def fill_field(driver, field_id, value):\n",
    "    field = driver.find_element(By.ID, field_id)\n",
    "    field.send_keys(value)"
   ]
  },
  {
   "cell_type": "code",
   "execution_count": 3,
   "id": "16584467",
   "metadata": {},
   "outputs": [],
   "source": [
    "def select_dropdown_by_visible_text(driver, dropdown_id, text):\n",
    "    dropdown = driver.find_element(By.ID, dropdown_id)\n",
    "    dropdown.click()\n",
    "    WebDriverWait(driver, 10).until(EC.presence_of_element_located((By.XPATH, f\"//select[@id='{dropdown_id}']/option[text()='{text}']\")))\n",
    "    option_xpath = f\"//select[@id='{dropdown_id}']/option[text()='{text}']\"\n",
    "    option = driver.find_element(By.XPATH, option_xpath)\n",
    "    option.click()\n",
    "\n",
    "def wait_for_dropdown_options(driver, dropdown_id):\n",
    "    wait(2)\n",
    "\n",
    "def upload_file(driver, file_input_id, file_path):\n",
    "    file_input = driver.find_element(By.ID, file_input_id)\n",
    "    file_input.send_keys(file_path)\n",
    "\n",
    "def submit_form(driver):\n",
    "    register_button = driver.find_element(By.ID, \"register_submit\")\n",
    "    register_button.click()\n",
    "\n",
    "def check_for_error(driver, error_id):\n",
    "    try:\n",
    "        error_element = driver.find_element(By.ID, error_id)\n",
    "        return error_element.text if error_element.is_displayed() else \"\"\n",
    "    except NoSuchElementException:\n",
    "        return \"\""
   ]
  },
  {
   "cell_type": "code",
   "execution_count": 4,
   "id": "01f38a06",
   "metadata": {},
   "outputs": [],
   "source": [
    "def fill_input_fields(driver, email, cnic, company_code, mobile, password, confirm_password, country, state, city, source, file_path):\n",
    "    fill_field(driver, \"rec_reg_email\", email)\n",
    "    fill_field(driver, \"rec_reg_cnic\", cnic)\n",
    "    fill_field(driver, \"company_code\", company_code)\n",
    "    fill_field(driver, \"rec_reg_contact_no\", mobile)\n",
    "    fill_field(driver, \"rec_reg_password\", password)\n",
    "    fill_field(driver, \"rec_reg_confirm_passoword\", confirm_password)\n",
    "    wait(5)\n",
    "    select_dropdown_by_visible_text(driver, \"country_id\", country)\n",
    "    wait_for_dropdown_options(driver, \"state_id\")\n",
    "    select_dropdown_by_visible_text(driver, \"state_id\", state)\n",
    "    wait_for_dropdown_options(driver, \"city_id\")\n",
    "    select_dropdown_by_visible_text(driver, \"city_id\", city)\n",
    "    select_dropdown_by_visible_text(driver, \"rec_source_id\", source)\n",
    "    upload_file(driver, \"file\", file_path)"
   ]
  },
  {
   "cell_type": "code",
   "execution_count": 5,
   "id": "b3f534c6",
   "metadata": {},
   "outputs": [],
   "source": [
    "def fill_form(email, cnic, company_code, mobile, password, confirm_password, country, state, city, source, file_path):\n",
    "    driver = webdriver.Chrome()\n",
    "    error_text = \"\"\n",
    "\n",
    "    try:\n",
    "        driver.get(\"https://rec-demo-client.botnosticsolutions.ai/\")\n",
    "        fill_input_fields(driver, email, cnic, company_code, mobile, password, confirm_password, country, state, city, source, file_path)\n",
    "\n",
    "        error_text = check_for_error(driver, \"error-email\")\n",
    "        if not error_text:\n",
    "            error_text = check_for_error(driver, \"error-pwd-format\")\n",
    "        if not error_text:\n",
    "            error_text = check_for_error(driver, \"error-pwd\")\n",
    "\n",
    "        data = {\n",
    "            \"email\": email,\n",
    "            \"cnic\": cnic,\n",
    "            \"company_code\": company_code,\n",
    "            \"mobile\": mobile,\n",
    "            \"password\": password,\n",
    "            \"confirm_password\": confirm_password,\n",
    "            \"country\": country,\n",
    "            \"state\": state,\n",
    "            \"city\": city,\n",
    "            \"source\": source,\n",
    "            \"file_path\": file_path,\n",
    "            \"error_text\": error_text\n",
    "        }\n",
    "\n",
    "        append_to_json_file(data)\n",
    "\n",
    "    except Exception as e:\n",
    "        print(\"Error occurred during form filling:\", e)\n",
    "        import traceback\n",
    "        traceback.print_exc()\n",
    "\n",
    "        data = {\n",
    "            \"email\": email,\n",
    "            \"cnic\": cnic,\n",
    "            \"company_code\": company_code,\n",
    "            \"mobile\": mobile,\n",
    "            \"password\": password,\n",
    "            \"confirm_password\": confirm_password,\n",
    "            \"country\": country,\n",
    "            \"state\": state,\n",
    "            \"city\": city,\n",
    "            \"source\": source,\n",
    "            \"file_path\": file_path,\n",
    "            \"error_text\": error_text or \"Exception occurred\"\n",
    "        }\n",
    "\n",
    "        append_to_json_file(data)\n",
    "\n",
    "    finally:\n",
    "        wait(5)\n",
    "        driver.quit()"
   ]
  },
  {
   "cell_type": "code",
   "execution_count": 6,
   "id": "286c465c",
   "metadata": {},
   "outputs": [
    {
     "name": "stdout",
     "output_type": "stream",
     "text": [
      "Running test cases...\n"
     ]
    }
   ],
   "source": [
    "# Test Cases\n",
    "print(\"Running test cases...\")"
   ]
  },
  {
   "cell_type": "code",
   "execution_count": 9,
   "id": "1dc095cb",
   "metadata": {},
   "outputs": [
    {
     "name": "stdout",
     "output_type": "stream",
     "text": [
      "Test Case: Valid form submission\n"
     ]
    }
   ],
   "source": [
    "# Valid form submission\n",
    "print(\"Test Case: Valid form submission\")\n",
    "fill_form(\"valid@example.com\", \"1234567890123\", \"DC001\", \"03001234567\", \"ValidPass123!\", \"ValidPass123!\", \"Pakistan\", \"Punjab\", \"Lahore\", \"Facebook\", \"C://Users//MHS//Downloads//Media Assessment.pdf\")\n"
   ]
  },
  {
   "cell_type": "code",
   "execution_count": 11,
   "id": "bcea7eea",
   "metadata": {},
   "outputs": [
    {
     "name": "stdout",
     "output_type": "stream",
     "text": [
      "Test Case: Invalid email format\n"
     ]
    }
   ],
   "source": [
    "# Email format error\n",
    "print(\"Test Case: Invalid email format\")\n",
    "fill_form(\"invalidemail.com\", \"1234567890123\", \"DC001\", \"03001234567\", \"ValidPass123!\", \"ValidPass123!\", \"Pakistan\", \"Punjab\", \"Lahore\", \"Facebook\", \"C://Users//MHS//Downloads//Media Assessment.pdf\")\n"
   ]
  },
  {
   "cell_type": "code",
   "execution_count": 12,
   "id": "c1b14b72",
   "metadata": {},
   "outputs": [
    {
     "name": "stdout",
     "output_type": "stream",
     "text": [
      "Test Case: Password mismatch\n"
     ]
    }
   ],
   "source": [
    "# Example usage: Password mismatch\n",
    "print(\"Test Case: Password mismatch\")\n",
    "fill_form(\n",
    "    \"mismatch@example.com\",\n",
    "    \"1234567890123\",\n",
    "    \"DC001\",\n",
    "    \"03001234567\",\n",
    "    \"ValidPass123!\",\n",
    "    \"MismatchPass123!\",\n",
    "    \"Pakistan\",\n",
    "    \"Punjab\",\n",
    "    \"Lahore\",\n",
    "    \"Facebook\",\n",
    "    \"C://Users//MHS//Downloads//Media Assessment.pdf\"\n",
    ")"
   ]
  },
  {
   "cell_type": "code",
   "execution_count": 13,
   "id": "5931c832",
   "metadata": {},
   "outputs": [
    {
     "name": "stdout",
     "output_type": "stream",
     "text": [
      "Test Case: Missing CNIC\n"
     ]
    }
   ],
   "source": [
    "# Missing CNIC\n",
    "print(\"Test Case: Missing CNIC\")\n",
    "fill_form(\n",
    "    \"missingcnic@example.com\", \n",
    "    \"\", \n",
    "    \"DC001\", \n",
    "    \"03001234567\", \n",
    "    \"ValidPass123!\", \n",
    "    \"ValidPass123!\", \n",
    "    \"Pakistan\", \n",
    "    \"Punjab\", \n",
    "    \"Lahore\", \n",
    "    \"Facebook\", \n",
    "    \"C://Users//MHS//Downloads//Media Assessment.pdf\"\n",
    ")\n",
    "    "
   ]
  },
  {
   "cell_type": "code",
   "execution_count": 14,
   "id": "e70b6fc1",
   "metadata": {},
   "outputs": [
    {
     "name": "stdout",
     "output_type": "stream",
     "text": [
      "Test Case: Invalid password format\n"
     ]
    }
   ],
   "source": [
    "# Invalid password format\n",
    "print(\"Test Case: Invalid password format\")\n",
    "fill_form(\n",
    "    \"invalidpassword@example.com\", \n",
    "    \"1234567890123\", \n",
    "    \"DC001\", \n",
    "    \"03001234567\", \n",
    "    \"short\", \n",
    "    \"short\", \n",
    "    \"Pakistan\", \n",
    "    \"Punjab\", \n",
    "    \"Lahore\", \n",
    "    \"Facebook\", \n",
    "    \"C://Users//MHS//Downloads//Media Assessment.pdf\"\n",
    ")"
   ]
  },
  {
   "cell_type": "code",
   "execution_count": 15,
   "id": "0b48f2c5",
   "metadata": {},
   "outputs": [
    {
     "name": "stdout",
     "output_type": "stream",
     "text": [
      "Test Case: Non-existent country/state/city\n",
      "Error occurred during form filling: Message: \n",
      "Stacktrace:\n",
      "\tGetHandleVerifier [0x00007FF659171F52+60322]\n",
      "\t(No symbol) [0x00007FF6590ECEC9]\n",
      "\t(No symbol) [0x00007FF658FA7EBA]\n",
      "\t(No symbol) [0x00007FF658FF7676]\n",
      "\t(No symbol) [0x00007FF658FF773C]\n",
      "\t(No symbol) [0x00007FF65903E967]\n",
      "\t(No symbol) [0x00007FF65901C25F]\n",
      "\t(No symbol) [0x00007FF65903BC80]\n",
      "\t(No symbol) [0x00007FF65901BFC3]\n",
      "\t(No symbol) [0x00007FF658FE9617]\n",
      "\t(No symbol) [0x00007FF658FEA211]\n",
      "\tGetHandleVerifier [0x00007FF6594894AD+3301629]\n",
      "\tGetHandleVerifier [0x00007FF6594D36D3+3605283]\n",
      "\tGetHandleVerifier [0x00007FF6594C9450+3563680]\n",
      "\tGetHandleVerifier [0x00007FF659224326+790390]\n",
      "\t(No symbol) [0x00007FF6590F750F]\n",
      "\t(No symbol) [0x00007FF6590F3404]\n",
      "\t(No symbol) [0x00007FF6590F3592]\n",
      "\t(No symbol) [0x00007FF6590E2F9F]\n",
      "\tBaseThreadInitThunk [0x00007FFA08967344+20]\n",
      "\tRtlUserThreadStart [0x00007FFA095C26B1+33]\n",
      "\n"
     ]
    },
    {
     "name": "stderr",
     "output_type": "stream",
     "text": [
      "Traceback (most recent call last):\n",
      "  File \"C:\\Users\\MHS\\AppData\\Local\\Temp\\ipykernel_14556\\1133378030.py\", line 7, in fill_form\n",
      "    fill_input_fields(driver, email, cnic, company_code, mobile, password, confirm_password, country, state, city, source, file_path)\n",
      "  File \"C:\\Users\\MHS\\AppData\\Local\\Temp\\ipykernel_14556\\3674994775.py\", line 9, in fill_input_fields\n",
      "    select_dropdown_by_visible_text(driver, \"country_id\", country)\n",
      "  File \"C:\\Users\\MHS\\AppData\\Local\\Temp\\ipykernel_14556\\2044416111.py\", line 4, in select_dropdown_by_visible_text\n",
      "    WebDriverWait(driver, 10).until(EC.presence_of_element_located((By.XPATH, f\"//select[@id='{dropdown_id}']/option[text()='{text}']\")))\n",
      "  File \"C:\\Users\\MHS\\anaconda3\\lib\\site-packages\\selenium\\webdriver\\support\\wait.py\", line 105, in until\n",
      "    raise TimeoutException(message, screen, stacktrace)\n",
      "selenium.common.exceptions.TimeoutException: Message: \n",
      "Stacktrace:\n",
      "\tGetHandleVerifier [0x00007FF659171F52+60322]\n",
      "\t(No symbol) [0x00007FF6590ECEC9]\n",
      "\t(No symbol) [0x00007FF658FA7EBA]\n",
      "\t(No symbol) [0x00007FF658FF7676]\n",
      "\t(No symbol) [0x00007FF658FF773C]\n",
      "\t(No symbol) [0x00007FF65903E967]\n",
      "\t(No symbol) [0x00007FF65901C25F]\n",
      "\t(No symbol) [0x00007FF65903BC80]\n",
      "\t(No symbol) [0x00007FF65901BFC3]\n",
      "\t(No symbol) [0x00007FF658FE9617]\n",
      "\t(No symbol) [0x00007FF658FEA211]\n",
      "\tGetHandleVerifier [0x00007FF6594894AD+3301629]\n",
      "\tGetHandleVerifier [0x00007FF6594D36D3+3605283]\n",
      "\tGetHandleVerifier [0x00007FF6594C9450+3563680]\n",
      "\tGetHandleVerifier [0x00007FF659224326+790390]\n",
      "\t(No symbol) [0x00007FF6590F750F]\n",
      "\t(No symbol) [0x00007FF6590F3404]\n",
      "\t(No symbol) [0x00007FF6590F3592]\n",
      "\t(No symbol) [0x00007FF6590E2F9F]\n",
      "\tBaseThreadInitThunk [0x00007FFA08967344+20]\n",
      "\tRtlUserThreadStart [0x00007FFA095C26B1+33]\n",
      "\n"
     ]
    }
   ],
   "source": [
    "# Non-existent country/state/city\n",
    "print(\"Test Case: Non-existent country/state/city\")\n",
    "fill_form(\n",
    "    \"nonexistent@example.com\", \n",
    "    \"1234567890123\", \n",
    "    \"DC001\", \n",
    "    \"03001234567\", \n",
    "    \"ValidPass123!\", \n",
    "    \"ValidPass123!\", \n",
    "    \"NonExistentCountry\", \n",
    "    \"NonExistentState\", \n",
    "    \"NonExistentCity\", \n",
    "    \"Facebook\", \n",
    "    \"C://Users//MHS//Downloads//Media Assessment.pdf\"\n",
    ")"
   ]
  },
  {
   "cell_type": "code",
   "execution_count": null,
   "id": "4cfd46f8",
   "metadata": {},
   "outputs": [],
   "source": []
  }
 ],
 "metadata": {
  "kernelspec": {
   "display_name": "Python 3 (ipykernel)",
   "language": "python",
   "name": "python3"
  },
  "language_info": {
   "codemirror_mode": {
    "name": "ipython",
    "version": 3
   },
   "file_extension": ".py",
   "mimetype": "text/x-python",
   "name": "python",
   "nbconvert_exporter": "python",
   "pygments_lexer": "ipython3",
   "version": "3.10.9"
  }
 },
 "nbformat": 4,
 "nbformat_minor": 5
}
