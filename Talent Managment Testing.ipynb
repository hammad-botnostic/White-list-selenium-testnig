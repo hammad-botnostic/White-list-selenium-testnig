{
 "cells": [
  {
   "cell_type": "code",
   "execution_count": 1,
   "id": "1c1d92c4",
   "metadata": {},
   "outputs": [],
   "source": [
    "from selenium import webdriver\n",
    "from selenium.webdriver.common.by import By\n",
    "from selenium.webdriver.support.ui import WebDriverWait\n",
    "from selenium.webdriver.support import expected_conditions as EC\n",
    "from selenium.common.exceptions import NoSuchElementException, TimeoutException\n",
    "import json\n",
    "import time"
   ]
  },
  {
   "cell_type": "code",
   "execution_count": 7,
   "id": "8d138d3c",
   "metadata": {},
   "outputs": [],
   "source": [
    "def wait(seconds):\n",
    "    time.sleep(seconds)\n",
    "\n",
    "def append_to_json_file(data, file_path=\"results.json\"):\n",
    "    try:\n",
    "        with open(file_path, \"r\") as json_file:\n",
    "            existing_data = json.load(json_file)\n",
    "    except (FileNotFoundError, json.JSONDecodeError):\n",
    "        existing_data = []\n",
    "\n",
    "    existing_data.append(data)\n",
    "\n",
    "    with open(file_path, \"w\") as json_file:\n",
    "        json.dump(existing_data, json_file, indent=4)"
   ]
  },
  {
   "cell_type": "code",
   "execution_count": 15,
   "id": "0d08607d",
   "metadata": {},
   "outputs": [],
   "source": [
    "def fill_field(driver, field_id, value):\n",
    "    field = driver.find_element(By.ID, field_id)\n",
    "    field.send_keys(value)\n",
    "\n",
    "def submit_form(driver):\n",
    "    register_button = driver.find_element(By.ID, \"register_submit\")\n",
    "    register_button.click()"
   ]
  },
  {
   "cell_type": "code",
   "execution_count": 16,
   "id": "e76786cf",
   "metadata": {},
   "outputs": [],
   "source": [
    "def check_for_error(driver, error_id):\n",
    "    try:\n",
    "        error_element = driver.find_element(By.ID, error_id)\n",
    "        return error_element.text if error_element.is_displayed() else \"\"\n",
    "    except NoSuchElementException:\n",
    "        return \"\""
   ]
  },
  {
   "cell_type": "code",
   "execution_count": 17,
   "id": "cd0ead38",
   "metadata": {},
   "outputs": [],
   "source": [
    "def check_for_popup_error(driver):\n",
    "    try:\n",
    "        popup = WebDriverWait(driver, 10).until(\n",
    "            EC.visibility_of_element_located((By.ID, \"swal2-html-container\"))\n",
    "        )\n",
    "        return popup.text\n",
    "    except TimeoutException:\n",
    "        return \"\""
   ]
  },
  {
   "cell_type": "code",
   "execution_count": 18,
   "id": "af91e01e",
   "metadata": {},
   "outputs": [],
   "source": [
    "def fill_input_fields(driver, first_name, last_name, emp_id, company_code):\n",
    "    fill_field(driver, \"first_name\", first_name)\n",
    "    fill_field(driver, \"last_name\", last_name)\n",
    "    fill_field(driver, \"emp_id\", emp_id)\n",
    "    fill_field(driver, \"company_code\", company_code)"
   ]
  },
  {
   "cell_type": "code",
   "execution_count": 21,
   "id": "56fb300b",
   "metadata": {},
   "outputs": [],
   "source": [
    "def fill_form(test_case_title, first_name, last_name, emp_id, company_code):\n",
    "    driver = webdriver.Chrome()\n",
    "    error_text = \"\"\n",
    "\n",
    "    try:\n",
    "        driver.get(\"https://prog-demo-client.botnosticsolutions.ai/\")  # Change this to the path where your form is located\n",
    "        fill_input_fields(driver, first_name, last_name, emp_id, company_code)\n",
    "        submit_form(driver)\n",
    "        wait(5)\n",
    "\n",
    "        error_text = check_for_error(driver, \"error-email\")\n",
    "        if not error_text:\n",
    "            error_text = check_for_error(driver, \"error-pwd-format\")\n",
    "        if not error_text:\n",
    "            error_text = check_for_error(driver, \"error-pwd\")\n",
    "\n",
    "        popup_error_text = check_for_popup_error(driver)\n",
    "        if popup_error_text:\n",
    "            error_text = popup_error_text\n",
    "\n",
    "        data = {\n",
    "            \"test_case_title\": test_case_title,\n",
    "            \"first_name\": first_name,\n",
    "            \"last_name\": last_name,\n",
    "            \"emp_id\": emp_id,\n",
    "            \"company_code\": company_code,\n",
    "            \"error_text\": error_text\n",
    "        }\n",
    "\n",
    "        append_to_json_file(data)\n",
    "\n",
    "    except Exception as e:\n",
    "        print(\"Error occurred during form filling:\", e)\n",
    "        import traceback\n",
    "        traceback.print_exc()\n",
    "\n",
    "        data = {\n",
    "            \"test_case_title\": test_case_title,\n",
    "            \"first_name\": first_name,\n",
    "            \"last_name\": last_name,\n",
    "            \"emp_id\": emp_id,\n",
    "            \"company_code\": company_code,\n",
    "            \"error_text\": error_text or \"Exception occurred\"\n",
    "        }\n",
    "\n",
    "        append_to_json_file(data)\n",
    "\n",
    "    finally:\n",
    "        wait(5)\n",
    "        driver.quit()\n"
   ]
  },
  {
   "cell_type": "code",
   "execution_count": 23,
   "id": "4819434a",
   "metadata": {},
   "outputs": [
    {
     "name": "stdout",
     "output_type": "stream",
     "text": [
      "Running test cases...\n",
      "Test Case: Valid form submission\n"
     ]
    }
   ],
   "source": [
    "# Test Cases\n",
    "print(\"Running test cases...\")\n",
    "\n",
    "# Valid form submission\n",
    "print(\"Test Case: Valid form submission\")\n",
    "fill_form(\"Valid form submission\", \"John\", \"Doe\", \"123\", \"Dem-1692959085\")"
   ]
  },
  {
   "cell_type": "code",
   "execution_count": 24,
   "id": "03b6ebea",
   "metadata": {},
   "outputs": [
    {
     "name": "stdout",
     "output_type": "stream",
     "text": [
      "Test Case: Missing first name\n"
     ]
    }
   ],
   "source": [
    "# Missing first name\n",
    "print(\"Test Case: Missing first name\")\n",
    "fill_form(\"Missing first name\", \"\", \"Doe\", \"123\", \"Dem-1692959085\")\n"
   ]
  },
  {
   "cell_type": "code",
   "execution_count": 25,
   "id": "eafde02b",
   "metadata": {},
   "outputs": [
    {
     "name": "stdout",
     "output_type": "stream",
     "text": [
      "Test Case: Missing last name\n"
     ]
    }
   ],
   "source": [
    "# Missing last name\n",
    "print(\"Test Case: Missing last name\")\n",
    "fill_form(\"Missing last name\", \"John\", \"\", \"123\", \"Dem-1692959085\")\n"
   ]
  },
  {
   "cell_type": "code",
   "execution_count": 26,
   "id": "37ead409",
   "metadata": {},
   "outputs": [
    {
     "name": "stdout",
     "output_type": "stream",
     "text": [
      "Test Case: Missing Employee ID\n",
      "Test Case: Missing Company Code\n",
      "Test Case: Invalid Employee ID (non-numeric)\n",
      "Test Case: Invalid Company Code (missing 'Dem-')\n",
      "Test Case: Invalid Company Code (wrong format)\n"
     ]
    }
   ],
   "source": [
    "# Missing Employee ID\n",
    "print(\"Test Case: Missing Employee ID\")\n",
    "fill_form(\"Missing Employee ID\", \"John\", \"Doe\", \"\", \"Dem-1692959085\")\n",
    "\n",
    "# Missing Company Code\n",
    "print(\"Test Case: Missing Company Code\")\n",
    "fill_form(\"Missing Company Code\", \"John\", \"Doe\", \"123\", \"\")\n",
    "\n",
    "# Invalid Employee ID (non-numeric)\n",
    "print(\"Test Case: Invalid Employee ID (non-numeric)\")\n",
    "fill_form(\"Invalid Employee ID (non-numeric)\", \"John\", \"Doe\", \"ABC\", \"Dem-1692959085\")\n",
    "\n",
    "# Invalid Company Code (missing 'Dem-')\n",
    "print(\"Test Case: Invalid Company Code (missing 'Dem-')\")\n",
    "fill_form(\"Invalid Company Code (missing 'Dem-')\", \"John\", \"Doe\", \"123\", \"1692959085\")\n",
    "\n",
    "# Invalid Company Code (wrong format)\n",
    "print(\"Test Case: Invalid Company Code (wrong format)\")\n",
    "fill_form(\"Invalid Company Code (wrong format)\", \"John\", \"Doe\", \"123\", \"Demo-1234567890\")"
   ]
  },
  {
   "cell_type": "code",
   "execution_count": null,
   "id": "5e461684",
   "metadata": {},
   "outputs": [],
   "source": []
  }
 ],
 "metadata": {
  "kernelspec": {
   "display_name": "Python 3 (ipykernel)",
   "language": "python",
   "name": "python3"
  },
  "language_info": {
   "codemirror_mode": {
    "name": "ipython",
    "version": 3
   },
   "file_extension": ".py",
   "mimetype": "text/x-python",
   "name": "python",
   "nbconvert_exporter": "python",
   "pygments_lexer": "ipython3",
   "version": "3.10.9"
  }
 },
 "nbformat": 4,
 "nbformat_minor": 5
}
