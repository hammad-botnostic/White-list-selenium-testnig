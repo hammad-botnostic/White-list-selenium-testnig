{
 "cells": [
  {
   "cell_type": "code",
   "execution_count": 25,
   "id": "f8e94f31",
   "metadata": {},
   "outputs": [],
   "source": [
    "import json\n",
    "import time\n",
    "from selenium import webdriver\n",
    "from selenium.webdriver.common.by import By\n",
    "from selenium.webdriver.support.ui import WebDriverWait\n",
    "from selenium.webdriver.support import expected_conditions as EC\n",
    "from selenium.webdriver.support.ui import Select"
   ]
  },
  {
   "cell_type": "code",
   "execution_count": 48,
   "id": "363671b1",
   "metadata": {},
   "outputs": [],
   "source": [
    "# Function to initialize the webdriver\n",
    "def init_driver():\n",
    "    driver = webdriver.Chrome()\n",
    "    driver.get('https://mcd-demo-client.mycareerdreams.com/')\n",
    "    return driver\n"
   ]
  },
  {
   "cell_type": "code",
   "execution_count": 55,
   "id": "c47b7aaf",
   "metadata": {},
   "outputs": [],
   "source": [
    "# Function to fill the registration form with data from JSON\n",
    "def fill_registration_form(driver, data):\n",
    "    try:\n",
    "        name_input = driver.find_element(By.XPATH, \"//input[@id='name_input']\")\n",
    "        username_input = driver.find_element(By.XPATH, \"//input[@id='username_input']\")\n",
    "        email_input = driver.find_element(By.XPATH, \"//input[@id='email_input']\")\n",
    "        password_input = driver.find_element(By.XPATH, \"//input[@id='pwd_input']\")\n",
    "        confirm_password_input = driver.find_element(By.XPATH, \"//input[@id='pwd_confirm_input']\")\n",
    "        institute_code_input = driver.find_element(By.XPATH, \"//input[@id='institute_code_input']\")\n",
    "        country_dropdown = Select(driver.find_element(By.XPATH, \"//select[@id='country_id']\"))\n",
    "        state_dropdown = Select(driver.find_element(By.XPATH, \"//select[@id='state_id']\"))\n",
    "        city_dropdown = Select(driver.find_element(By.XPATH, \"//select[@id='city_id']\"))\n",
    "        register_button = driver.find_element(By.XPATH, \"//button[@id='register-btn']\")\n",
    "\n",
    "        # Enter data into the form\n",
    "        name_input.clear()\n",
    "        name_input.send_keys(data['name'])\n",
    "        username_input.clear()\n",
    "        username_input.send_keys(data['username'])\n",
    "        email_input.clear()\n",
    "        email_input.send_keys(data['email'])\n",
    "        password_input.clear()\n",
    "        password_input.send_keys(data['password'])\n",
    "        confirm_password_input.clear()\n",
    "        confirm_password_input.send_keys(data['confirmPassword'])\n",
    "        institute_code_input.clear()\n",
    "        institute_code_input.send_keys(data['instituteCode'])\n",
    "\n",
    "        # Select dropdown options\n",
    "        country_dropdown.select_by_visible_text(data['country'])\n",
    "        \n",
    "        time.sleep(5)\n",
    "        # Wait for the state dropdown options to be visible\n",
    "        state_dropdown_element = WebDriverWait(driver, 10).until(\n",
    "            EC.visibility_of_element_located((By.ID, \"state_id\"))\n",
    "        )\n",
    "        state_dropdown = Select(state_dropdown_element)\n",
    "        state_dropdown.select_by_visible_text(data['state'])\n",
    "        \n",
    "        time.sleep(5)\n",
    "        # Wait for the city dropdown options to be enabled\n",
    "        city_dropdown_element = WebDriverWait(driver, 10).until(\n",
    "            EC.element_to_be_clickable((By.ID, \"city_id\"))\n",
    "        )\n",
    "        city_dropdown = Select(city_dropdown_element)\n",
    "        city_dropdown.select_by_visible_text(data['city'])\n",
    "\n",
    "        # Check for specific error messages\n",
    "        error_messages = {\n",
    "            \"email_format\": \"Invalid Email\",\n",
    "            \"password_format\": \"Must contain 8 characters including 1 uppercase, 1 lowercase, 1 number and 1 special case character.\",\n",
    "            \"password_match\": \"Password doesn't match\"\n",
    "        }\n",
    "        errors_found = []\n",
    "\n",
    "        try:\n",
    "            email_error = driver.find_element(By.XPATH, \"//p[@id='error-email-format' and contains(@style, 'display: block;')]\")\n",
    "            errors_found.append(error_messages[\"email_format\"])\n",
    "        except:\n",
    "            pass\n",
    "\n",
    "        try:\n",
    "            password_format_error = driver.find_element(By.XPATH, \"//p[@id='error-pwd-format' and contains(@style, 'display: block;')]\")\n",
    "            errors_found.append(error_messages[\"password_format\"])\n",
    "        except:\n",
    "            pass\n",
    "\n",
    "        try:\n",
    "            password_match_error = driver.find_element(By.XPATH, \"//p[@id='error-pwd' and text()=\\\"Password doesn't match\\\"]\")\n",
    "            errors_found.append(error_messages[\"password_match\"])\n",
    "        except:\n",
    "            pass\n",
    "\n",
    "        if errors_found:\n",
    "            return \"Errors found: \" + \", \".join(errors_found)\n",
    "\n",
    "        # Submit the form\n",
    "        register_button.click()\n",
    "\n",
    "        return \"Form submitted\"\n",
    "    except Exception as e:\n",
    "        return str(e)"
   ]
  },
  {
   "cell_type": "code",
   "execution_count": 56,
   "id": "a2e173c3",
   "metadata": {},
   "outputs": [],
   "source": [
    "# Function to append test results to a JSON file\n",
    "def append_test_results(file_path, data):\n",
    "    try:\n",
    "        with open(file_path, 'r') as file:\n",
    "            existing_data = json.load(file)\n",
    "    except FileNotFoundError:\n",
    "        existing_data = []\n",
    "\n",
    "    existing_data.append(data)\n",
    "\n",
    "    with open(file_path, 'w') as file:\n",
    "        json.dump(existing_data, file, indent=4)\n"
   ]
  },
  {
   "cell_type": "code",
   "execution_count": 57,
   "id": "4ce31d22",
   "metadata": {},
   "outputs": [],
   "source": [
    "# Function to run a single test case\n",
    "def run_test_case(data, result_file):\n",
    "    driver = init_driver()\n",
    "    print(f\"Running test case: {data['title']}\")\n",
    "    result = fill_registration_form(driver, data)\n",
    "    data['status'] = result\n",
    "\n",
    "    if \"Errors found\" not in result:\n",
    "        try:\n",
    "            popup = WebDriverWait(driver, 10).until(EC.visibility_of_element_located((By.ID, \"swal2-html-container\")))\n",
    "            data['popup_message'] = popup.text\n",
    "        except:\n",
    "            data['popup_message'] = \"No popup message\"\n",
    "    else:\n",
    "        data['popup_message'] = result\n",
    "\n",
    "    # Append the result to the result file\n",
    "    append_test_results(result_file, data)\n",
    "\n",
    "    driver.quit()"
   ]
  },
  {
   "cell_type": "code",
   "execution_count": 60,
   "id": "b4b34343",
   "metadata": {},
   "outputs": [],
   "source": [
    "# Test cases\n",
    "test_case_1 = {\n",
    "    \"title\": \"Valid Registration\",\n",
    "    \"name\": \"John Doe\",\n",
    "    \"username\": \"johndoe123\",\n",
    "    \"email\": \"john.doe@example.com\",\n",
    "    \"password\": \"Test@123\",\n",
    "    \"confirmPassword\": \"Test@123\",\n",
    "    \"instituteCode\": \"ABC123\",\n",
    "    \"country\": \"Pakistan\",\n",
    "    \"state\": \"Punjab\",\n",
    "    \"city\": \"Lahore\"\n",
    "}\n",
    "\n",
    "test_case_2 = {\n",
    "    \"title\": \"Invalid Email Format\",\n",
    "    \"name\": \"Alice Smith\",\n",
    "    \"username\": \"alice123\",\n",
    "    \"email\": \"invalidemail\",\n",
    "    \"password\": \"Test@123\",\n",
    "    \"confirmPassword\": \"Test@123\",\n",
    "    \"instituteCode\": \"DEF456\",\n",
    "    \"country\": \"Pakistan\",\n",
    "    \"state\": \"Sindh\",\n",
    "    \"city\": \"Karachi\"\n",
    "}\n",
    "\n",
    "test_case_3 = {\n",
    "    \"title\": \"Password Mismatch\",\n",
    "    \"name\": \"Bob Johnson\",\n",
    "    \"username\": \"bob456\",\n",
    "    \"email\": \"bob@example.com\",\n",
    "    \"password\": \"Test@123\",\n",
    "    \"confirmPassword\": \"Mismatch@123\",\n",
    "    \"instituteCode\": \"GHI789\",\n",
    "    \"country\": \"Pakistan\",\n",
    "    \"state\": \"Khyber Pakhtunkhwa\",\n",
    "    \"city\": \"Peshawar\"\n",
    "}\n",
    "\n",
    "test_case_4 = {\n",
    "    \"title\": \"Empty Fields\",\n",
    "    \"name\": \"\",\n",
    "    \"username\": \"\",\n",
    "    \"email\": \"\",\n",
    "    \"password\": \"\",\n",
    "    \"confirmPassword\": \"\",\n",
    "    \"instituteCode\": \"\",\n",
    "    \"country\": \"Pakistan\",\n",
    "    \"state\": \"Punjab\",\n",
    "    \"city\": \"Lahore\"\n",
    "}\n",
    "\n",
    "test_case_5 = {\n",
    "    \"title\": \"Username Already Taken\",\n",
    "    \"name\": \"David Brown\",\n",
    "    \"username\": \"johndoe123\",  # Existing username used intentionally\n",
    "    \"email\": \"david@example.com\",\n",
    "    \"password\": \"Test@123\",\n",
    "    \"confirmPassword\": \"Test@123\",\n",
    "    \"instituteCode\": \"JKL012\",\n",
    "    \"country\": \"Pakistan\",\n",
    "    \"state\": \"Sindh\",\n",
    "    \"city\": \"Karachi\"\n",
    "}\n",
    "\n",
    "result_file = 'mcd_test_results.json'"
   ]
  },
  {
   "cell_type": "code",
   "execution_count": 66,
   "id": "2f9001b5",
   "metadata": {},
   "outputs": [],
   "source": [
    "test_case_6 = {\n",
    "    \"title\": \"Missing Required Fields\",\n",
    "    \"name\": \"Jane Doe\",\n",
    "    \"username\": \"janedoe123\",\n",
    "    \"email\": \"\",\n",
    "    \"password\": \"Test@123\",\n",
    "    \"confirmPassword\": \"Test@123\",\n",
    "    \"instituteCode\": \"\",\n",
    "    \"country\": \"Pakistan\",\n",
    "    \"state\": \"Sindh\",\n",
    "    \"city\": \"Karachi\"\n",
    "}\n"
   ]
  },
  {
   "cell_type": "code",
   "execution_count": 67,
   "id": "61614632",
   "metadata": {},
   "outputs": [],
   "source": [
    "test_case_7 = {\n",
    "    \"title\": \"Invalid Username Format\",\n",
    "    \"name\": \"Charlie Brown\",\n",
    "    \"username\": \"charlie@brown\",\n",
    "    \"email\": \"charlie.brown@example.com\",\n",
    "    \"password\": \"Test@123\",\n",
    "    \"confirmPassword\": \"Test@123\",\n",
    "    \"instituteCode\": \"MNO345\",\n",
    "    \"country\": \"Pakistan\",\n",
    "    \"state\": \"Punjab\",\n",
    "    \"city\": \"Lahore\"\n",
    "}\n"
   ]
  },
  {
   "cell_type": "code",
   "execution_count": 68,
   "id": "d9f40dff",
   "metadata": {},
   "outputs": [],
   "source": [
    "test_case_8 = {\n",
    "    \"title\": \"Short Password\",\n",
    "    \"name\": \"Emily White\",\n",
    "    \"username\": \"emilywhite\",\n",
    "    \"email\": \"emily.white@example.com\",\n",
    "    \"password\": \"T@1a\",\n",
    "    \"confirmPassword\": \"T@1a\",\n",
    "    \"instituteCode\": \"PQR678\",\n",
    "    \"country\": \"Pakistan\",\n",
    "    \"state\": \"Khyber Pakhtunkhwa\",\n",
    "    \"city\": \"Peshawar\"\n",
    "}\n"
   ]
  },
  {
   "cell_type": "code",
   "execution_count": 69,
   "id": "d9959383",
   "metadata": {},
   "outputs": [],
   "source": [
    "test_case_9 = {\n",
    "    \"title\": \"Long Username\",\n",
    "    \"name\": \"Michael Green\",\n",
    "    \"username\": \"michaelgreen12345678901234567890\",\n",
    "    \"email\": \"michael.green@example.com\",\n",
    "    \"password\": \"Test@123\",\n",
    "    \"confirmPassword\": \"Test@123\",\n",
    "    \"instituteCode\": \"STU901\",\n",
    "    \"country\": \"Pakistan\",\n",
    "    \"state\": \"Balochistan\",\n",
    "    \"city\": \"Quetta\"\n",
    "}\n"
   ]
  },
  {
   "cell_type": "code",
   "execution_count": 70,
   "id": "a15c140b",
   "metadata": {},
   "outputs": [],
   "source": [
    "test_case_10 = {\n",
    "    \"title\": \"Special Characters in Name\",\n",
    "    \"name\": \"John*Doe\",\n",
    "    \"username\": \"johndoe456\",\n",
    "    \"email\": \"john.doe@example.com\",\n",
    "    \"password\": \"Test@123\",\n",
    "    \"confirmPassword\": \"Test@123\",\n",
    "    \"instituteCode\": \"VWX234\",\n",
    "    \"country\": \"Pakistan\",\n",
    "    \"state\": \"Islamabad\",\n",
    "    \"city\": \"Islamabad\"\n",
    "}\n"
   ]
  },
  {
   "cell_type": "code",
   "execution_count": null,
   "id": "2c17c896",
   "metadata": {},
   "outputs": [],
   "source": []
  },
  {
   "cell_type": "code",
   "execution_count": 61,
   "id": "abb84685",
   "metadata": {},
   "outputs": [
    {
     "name": "stdout",
     "output_type": "stream",
     "text": [
      "Running test case: Valid Registration\n"
     ]
    }
   ],
   "source": [
    "# Run individual test cases\n",
    "run_test_case(test_case_1, result_file)\n"
   ]
  },
  {
   "cell_type": "code",
   "execution_count": 62,
   "id": "6dee03fd",
   "metadata": {},
   "outputs": [
    {
     "name": "stdout",
     "output_type": "stream",
     "text": [
      "Running test case: Invalid Email Format\n"
     ]
    }
   ],
   "source": [
    "run_test_case(test_case_2, result_file)\n"
   ]
  },
  {
   "cell_type": "code",
   "execution_count": 63,
   "id": "8fcb190c",
   "metadata": {},
   "outputs": [
    {
     "name": "stdout",
     "output_type": "stream",
     "text": [
      "Running test case: Password Mismatch\n"
     ]
    }
   ],
   "source": [
    "run_test_case(test_case_3, result_file)\n"
   ]
  },
  {
   "cell_type": "code",
   "execution_count": 64,
   "id": "2cae39eb",
   "metadata": {},
   "outputs": [
    {
     "name": "stdout",
     "output_type": "stream",
     "text": [
      "Running test case: Empty Fields\n"
     ]
    }
   ],
   "source": [
    "run_test_case(test_case_4, result_file)\n"
   ]
  },
  {
   "cell_type": "code",
   "execution_count": 65,
   "id": "08eddd9f",
   "metadata": {},
   "outputs": [
    {
     "name": "stdout",
     "output_type": "stream",
     "text": [
      "Running test case: Username Already Taken\n"
     ]
    }
   ],
   "source": [
    "run_test_case(test_case_5, result_file)"
   ]
  },
  {
   "cell_type": "code",
   "execution_count": 71,
   "id": "327df642",
   "metadata": {},
   "outputs": [
    {
     "name": "stdout",
     "output_type": "stream",
     "text": [
      "Running test case: Missing Required Fields\n"
     ]
    }
   ],
   "source": [
    "run_test_case(test_case_6,result_file)"
   ]
  },
  {
   "cell_type": "code",
   "execution_count": 72,
   "id": "73ebcb3f",
   "metadata": {},
   "outputs": [
    {
     "name": "stdout",
     "output_type": "stream",
     "text": [
      "Running test case: Invalid Username Format\n"
     ]
    }
   ],
   "source": [
    "run_test_case(test_case_7,result_file)"
   ]
  },
  {
   "cell_type": "code",
   "execution_count": 73,
   "id": "f8742b37",
   "metadata": {},
   "outputs": [
    {
     "name": "stdout",
     "output_type": "stream",
     "text": [
      "Running test case: Short Password\n"
     ]
    }
   ],
   "source": [
    "run_test_case(test_case_8,result_file)"
   ]
  },
  {
   "cell_type": "code",
   "execution_count": 74,
   "id": "058c3a15",
   "metadata": {},
   "outputs": [
    {
     "name": "stdout",
     "output_type": "stream",
     "text": [
      "Running test case: Long Username\n"
     ]
    }
   ],
   "source": [
    "run_test_case(test_case_9,result_file)"
   ]
  },
  {
   "cell_type": "code",
   "execution_count": 75,
   "id": "48f9300f",
   "metadata": {},
   "outputs": [
    {
     "name": "stdout",
     "output_type": "stream",
     "text": [
      "Running test case: Special Characters in Name\n"
     ]
    }
   ],
   "source": [
    "run_test_case(test_case_10,result_file)"
   ]
  },
  {
   "cell_type": "markdown",
   "id": "a6daf32b",
   "metadata": {},
   "source": [
    "# Login Page"
   ]
  },
  {
   "cell_type": "code",
   "execution_count": 76,
   "id": "9d99e517",
   "metadata": {},
   "outputs": [],
   "source": [
    "# Function to initialize the webdriver\n",
    "def init_driver():\n",
    "    driver = webdriver.Chrome()\n",
    "    driver.get('https://mcd-demo-client.mycareerdreams.com/')\n",
    "    return driver"
   ]
  },
  {
   "cell_type": "code",
   "execution_count": 77,
   "id": "fdd6f0d1",
   "metadata": {},
   "outputs": [],
   "source": [
    "# Function to perform login testing\n",
    "def login_test(driver, data):\n",
    "    try:\n",
    "        # Click the Log In tab\n",
    "        login_tab = driver.find_element(By.XPATH, \"//a[@href='#login']\")\n",
    "        login_tab.click()\n",
    "        \n",
    "        # Wait for the login form to be visible\n",
    "        WebDriverWait(driver, 10).until(\n",
    "            EC.visibility_of_element_located((By.ID, \"login\"))\n",
    "        )\n",
    "\n",
    "        # Locate form elements\n",
    "        email_input = driver.find_element(By.XPATH, \"//input[@id='email_login_txt']\")\n",
    "        password_input = driver.find_element(By.XPATH, \"//input[@id='pwd_login_txt']\")\n",
    "        institute_code_input = driver.find_element(By.XPATH, \"//input[@id='institute_code']\")\n",
    "        login_button = driver.find_element(By.XPATH, \"//button[@id='form_login_btn']\")\n",
    "\n",
    "        # Enter data into the form\n",
    "        email_input.clear()\n",
    "        email_input.send_keys(data['email'])\n",
    "        password_input.clear()\n",
    "        password_input.send_keys(data['password'])\n",
    "        institute_code_input.clear()\n",
    "        institute_code_input.send_keys(data['instituteCode'])\n",
    "\n",
    "        # Submit the form\n",
    "        login_button.click()\n",
    "\n",
    "        # Wait for potential error message or successful login indication\n",
    "        try:\n",
    "            error_message = WebDriverWait(driver, 10).until(\n",
    "                EC.visibility_of_element_located((By.ID, \"login-error-msg\"))\n",
    "            )\n",
    "            return error_message.text\n",
    "        except:\n",
    "            return \"Login successful or no error message displayed\"\n",
    "    \n",
    "    except Exception as e:\n",
    "        return str(e)\n"
   ]
  },
  {
   "cell_type": "code",
   "execution_count": 78,
   "id": "b3175303",
   "metadata": {},
   "outputs": [],
   "source": [
    "# Function to append test results to a JSON file\n",
    "def append_test_results(file_path, data):\n",
    "    try:\n",
    "        with open(file_path, 'r') as file:\n",
    "            existing_data = json.load(file)\n",
    "    except FileNotFoundError:\n",
    "        existing_data = []\n",
    "\n",
    "    existing_data.append(data)\n",
    "\n",
    "    with open(file_path, 'w') as file:\n",
    "        json.dump(existing_data, file, indent=4)"
   ]
  },
  {
   "cell_type": "code",
   "execution_count": 79,
   "id": "89305558",
   "metadata": {},
   "outputs": [],
   "source": [
    "# Function to run a single login test case\n",
    "def run_login_test_case(data, result_file):\n",
    "    driver = init_driver()\n",
    "    print(f\"Running login test case: {data['title']}\")\n",
    "    result = login_test(driver, data)\n",
    "    data['status'] = result\n",
    "\n",
    "    # Append the result to the result file\n",
    "    append_test_results(result_file, data)\n",
    "\n",
    "    driver.quit()"
   ]
  },
  {
   "cell_type": "code",
   "execution_count": 80,
   "id": "d950df2a",
   "metadata": {},
   "outputs": [],
   "source": [
    "# Login test cases\n",
    "login_test_case_1 = {\n",
    "    \"title\": \"Valid Login\",\n",
    "    \"email\": \"john.doe@example.com\",\n",
    "    \"password\": \"Test@123\",\n",
    "    \"instituteCode\": \"ABC123\"\n",
    "}\n",
    "\n",
    "login_test_case_2 = {\n",
    "    \"title\": \"Invalid Email Format\",\n",
    "    \"email\": \"invalidemail\",\n",
    "    \"password\": \"Test@123\",\n",
    "    \"instituteCode\": \"ABC123\"\n",
    "}\n",
    "\n",
    "login_test_case_3 = {\n",
    "    \"title\": \"Incorrect Password\",\n",
    "    \"email\": \"john.doe@example.com\",\n",
    "    \"password\": \"WrongPassword123\",\n",
    "    \"instituteCode\": \"ABC123\"\n",
    "}\n",
    "\n",
    "login_test_case_4 = {\n",
    "    \"title\": \"Empty Fields\",\n",
    "    \"email\": \"\",\n",
    "    \"password\": \"\",\n",
    "    \"instituteCode\": \"\"\n",
    "}\n",
    "\n",
    "login_test_case_5 = {\n",
    "    \"title\": \"Nonexistent User\",\n",
    "    \"email\": \"nonexistent@example.com\",\n",
    "    \"password\": \"Test@123\",\n",
    "    \"instituteCode\": \"XYZ789\"\n",
    "}\n",
    "\n",
    "result_file = 'login_test_results.json'\n",
    "\n"
   ]
  },
  {
   "cell_type": "code",
   "execution_count": 81,
   "id": "4640578e",
   "metadata": {},
   "outputs": [
    {
     "name": "stdout",
     "output_type": "stream",
     "text": [
      "Running login test case: Valid Login\n"
     ]
    }
   ],
   "source": [
    "# Run individual login test cases\n",
    "run_login_test_case(login_test_case_1, result_file)\n"
   ]
  },
  {
   "cell_type": "code",
   "execution_count": 82,
   "id": "4bf9eba7",
   "metadata": {},
   "outputs": [
    {
     "name": "stdout",
     "output_type": "stream",
     "text": [
      "Running login test case: Invalid Email Format\n"
     ]
    }
   ],
   "source": [
    "run_login_test_case(login_test_case_2, result_file)\n"
   ]
  },
  {
   "cell_type": "code",
   "execution_count": 83,
   "id": "b8ae9eb7",
   "metadata": {},
   "outputs": [
    {
     "name": "stdout",
     "output_type": "stream",
     "text": [
      "Running login test case: Incorrect Password\n"
     ]
    }
   ],
   "source": [
    "run_login_test_case(login_test_case_3, result_file)\n"
   ]
  },
  {
   "cell_type": "code",
   "execution_count": 84,
   "id": "84de6a1e",
   "metadata": {},
   "outputs": [
    {
     "name": "stdout",
     "output_type": "stream",
     "text": [
      "Running login test case: Empty Fields\n"
     ]
    }
   ],
   "source": [
    "run_login_test_case(login_test_case_4, result_file)\n"
   ]
  },
  {
   "cell_type": "code",
   "execution_count": 85,
   "id": "137a2ca8",
   "metadata": {},
   "outputs": [
    {
     "name": "stdout",
     "output_type": "stream",
     "text": [
      "Running login test case: Nonexistent User\n"
     ]
    }
   ],
   "source": [
    "run_login_test_case(login_test_case_5, result_file)"
   ]
  },
  {
   "cell_type": "code",
   "execution_count": null,
   "id": "15c3eb37",
   "metadata": {},
   "outputs": [],
   "source": []
  }
 ],
 "metadata": {
  "kernelspec": {
   "display_name": "Python 3 (ipykernel)",
   "language": "python",
   "name": "python3"
  },
  "language_info": {
   "codemirror_mode": {
    "name": "ipython",
    "version": 3
   },
   "file_extension": ".py",
   "mimetype": "text/x-python",
   "name": "python",
   "nbconvert_exporter": "python",
   "pygments_lexer": "ipython3",
   "version": "3.10.9"
  }
 },
 "nbformat": 4,
 "nbformat_minor": 5
}
